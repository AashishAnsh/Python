{
 "cells": [
  {
   "cell_type": "markdown",
   "metadata": {},
   "source": [
    "## Write a function that asks for an integer and prints the square of it. Use a while loop with a try, except, else block to account for incorrect inputs"
   ]
  },
  {
   "cell_type": "code",
   "execution_count": 1,
   "metadata": {},
   "outputs": [],
   "source": [
    "def square():\n",
    "    while(1):\n",
    "        try:\n",
    "            v=int(input(\"enter the integer value\"))\n",
    "        except Exception as e:\n",
    "            continue\n",
    "        else:\n",
    "            v=v**2\n",
    "            print(v)\n",
    "            break"
   ]
  },
  {
   "cell_type": "code",
   "execution_count": 2,
   "metadata": {},
   "outputs": [
    {
     "name": "stdout",
     "output_type": "stream",
     "text": [
      "enter the integer value3\n",
      "9\n"
     ]
    }
   ],
   "source": [
    "square()"
   ]
  },
  {
   "cell_type": "markdown",
   "metadata": {},
   "source": [
    "##  Write a function to compute 8/0 and use try/except to catch the exceptions"
   ]
  },
  {
   "cell_type": "code",
   "execution_count": 3,
   "metadata": {},
   "outputs": [
    {
     "name": "stdout",
     "output_type": "stream",
     "text": [
      "3\n",
      "division by zero\n",
      "it execute no matter what\n"
     ]
    }
   ],
   "source": [
    "try:\n",
    "    a=int(input())\n",
    "    b=5/0\n",
    "    print(b)\n",
    "except Exception as e:\n",
    "    print(e)\n",
    "else:\n",
    "    print(\"there is no issue\")\n",
    "finally:\n",
    "    print(\"it execute no matter what\")"
   ]
  },
  {
   "cell_type": "markdown",
   "metadata": {},
   "source": [
    "##  Write a Python program that accepts a string and calculate the number of digits and letters.\n",
    "Input :-Hello321Bye360\n",
    "Output:-Digit - 6,Letter - 8"
   ]
  },
  {
   "cell_type": "code",
   "execution_count": 4,
   "metadata": {},
   "outputs": [],
   "source": [
    "def calc(s):\n",
    "    digit=0\n",
    "    letter=0\n",
    "    for i in s:\n",
    "        if i.isdigit():\n",
    "            digit=digit+1\n",
    "        elif i.isalpha():\n",
    "            letter=letter+1\n",
    "    print(\"digit\",digit,\"letter\",letter)\n",
    "    "
   ]
  },
  {
   "cell_type": "code",
   "execution_count": 5,
   "metadata": {},
   "outputs": [
    {
     "name": "stdout",
     "output_type": "stream",
     "text": [
      "Enterhello123\n",
      "digit 3 letter 5\n"
     ]
    }
   ],
   "source": [
    "str1=input(\"Enter\")\n",
    "calc(str1)"
   ]
  },
  {
   "cell_type": "markdown",
   "metadata": {},
   "source": [
    "## You are given a string.Your task is to count the frequency of letters of the string and print the letters in descending order of frequency.\n",
    "for example :- If the following string is given as input to the program: aabbbccde\n",
    "Then, the output of the program should be: b 3 a 2 c 2 d 1 e 1"
   ]
  },
  {
   "cell_type": "code",
   "execution_count": 1,
   "metadata": {},
   "outputs": [
    {
     "name": "stdout",
     "output_type": "stream",
     "text": [
      "aashish\n",
      "a 2 h 2 s 2 i 1 "
     ]
    }
   ],
   "source": [
    "word = input()\n",
    "dct = {}\n",
    "for i in word:\n",
    "    dct[i] = dct.get(i,0) + 1\n",
    "\n",
    "dct = sorted(dct.items(),key=lambda x:(-x[1],x[0]))\n",
    "for i in dct:\n",
    "    print(i[0],i[1],end=' ')"
   ]
  },
  {
   "cell_type": "markdown",
   "metadata": {},
   "source": [
    "You are required to write a program to sort the (name, age, score) tuples by ascending order where name is string, age and score are numbers. The tuples are input by console. The sort criteria is:\n",
    "Sort based on name\n",
    "Then sort based on age\n",
    "Then sort by score\n",
    "The priority is that name > age > score.\n",
    "If the following tuples are given as input to the program:\n",
    "Tom,19,80\n",
    "John,20,90\n",
    "Jony,17,91\n",
    "Jony,17,93\n",
    "Json,21,85\n",
    "Then, the output of the program should be:\n",
    "[('John', '20', '90'), ('Jony', '17', '91'), ('Jony', '17', '93'), ('Json', '21', '85'), ('Tom', '19', '80')]¶"
   ]
  },
  {
   "cell_type": "code",
   "execution_count": 2,
   "metadata": {},
   "outputs": [
    {
     "name": "stdout",
     "output_type": "stream",
     "text": [
      "Tom,19,80\n",
      "John,20,90\n",
      "Jony,17,91\n",
      "Jony,17,93\n",
      "Json,21,85\n",
      "\n",
      "[('John', '20', '90'), ('Jony', '17', '91'), ('Jony', '17', '93'), ('Json', '21', '85'), ('Tom', '19', '80')]\n"
     ]
    }
   ],
   "source": [
    "from operator import itemgetter\n",
    "\n",
    "people_info = []\n",
    "while True:\n",
    "    individual_info = input()\n",
    "\n",
    "    if individual_info == \"\":\n",
    "        break\n",
    "    else:\n",
    "        people_info.append(tuple((individual_info.split(\",\"))))\n",
    "\n",
    "people_info.sort(key =  itemgetter(0, 1, 2))       \n",
    "print(people_info)"
   ]
  },
  {
   "cell_type": "code",
   "execution_count": null,
   "metadata": {},
   "outputs": [],
   "source": []
  }
 ],
 "metadata": {
  "kernelspec": {
   "display_name": "Python 3",
   "language": "python",
   "name": "python3"
  },
  "language_info": {
   "codemirror_mode": {
    "name": "ipython",
    "version": 3
   },
   "file_extension": ".py",
   "mimetype": "text/x-python",
   "name": "python",
   "nbconvert_exporter": "python",
   "pygments_lexer": "ipython3",
   "version": "3.7.6"
  }
 },
 "nbformat": 4,
 "nbformat_minor": 5
}
